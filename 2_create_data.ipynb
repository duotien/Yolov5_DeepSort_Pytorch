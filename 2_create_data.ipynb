{
 "cells": [
  {
   "cell_type": "markdown",
   "metadata": {},
   "source": [
    "This notebook is for data management"
   ]
  },
  {
   "cell_type": "code",
   "execution_count": null,
   "metadata": {},
   "outputs": [],
   "source": [
    "%load_ext autoreload\n",
    "%autoreload 2"
   ]
  },
  {
   "cell_type": "code",
   "execution_count": null,
   "metadata": {},
   "outputs": [],
   "source": [
    "import torch\n",
    "import os\n",
    "import shutil\n",
    "from IPython.display import Image, clear_output  # to display images\n",
    "\n",
    "print(f'Setup complete. Using torch {torch.__version__} ({torch.cuda.get_device_properties(0).name if torch.cuda.is_available() else \"CPU\"})')"
   ]
  },
  {
   "cell_type": "code",
   "execution_count": null,
   "metadata": {},
   "outputs": [],
   "source": [
    "torch.cuda.is_available()"
   ]
  },
  {
   "cell_type": "code",
   "execution_count": null,
   "metadata": {},
   "outputs": [],
   "source": [
    "from PIL import Image\n",
    "import matplotlib.pyplot as plt\n",
    "import subprocess, json"
   ]
  },
  {
   "cell_type": "code",
   "execution_count": null,
   "metadata": {},
   "outputs": [],
   "source": [
    "DIR = os.path.abspath('')\n",
    "CONTENT_FOLDER = os.path.join(DIR, 'content')\n",
    "RAW_VIDEO_FOLDER = os.path.join(CONTENT_FOLDER, 'raw_video') # store raw video here\n",
    "EXTRACTED_VIDEO_FOLDER = os.path.join(CONTENT_FOLDER, 'extracted')\n",
    "TRIMMED_VIDEO_FOLDER = os.path.join(CONTENT_FOLDER, 'trimmed')\n",
    "\n",
    "yolo_model = 'yolov5/models/crowdhuman_yolov5m.pt'\n",
    "\n",
    "for folder in [CONTENT_FOLDER, RAW_VIDEO_FOLDER, EXTRACTED_VIDEO_FOLDER, TRIMMED_VIDEO_FOLDER]:\n",
    "    try:\n",
    "        os.makedirs(folder)\n",
    "    except Exception as e:\n",
    "        print(e)"
   ]
  },
  {
   "cell_type": "code",
   "execution_count": null,
   "metadata": {},
   "outputs": [],
   "source": [
    "tmp = os.walk(RAW_VIDEO_FOLDER)\n",
    "raw_video_list = []\n",
    "class_folder = next(tmp)[1]\n",
    "for root, dirs, files in tmp:\n",
    "    raw_video_list.extend(files)\n",
    "    print(root, dirs, files)\n",
    "\n",
    "del tmp"
   ]
  },
  {
   "cell_type": "code",
   "execution_count": null,
   "metadata": {},
   "outputs": [],
   "source": [
    "print(class_folder)\n",
    "print(raw_video_list)"
   ]
  },
  {
   "cell_type": "code",
   "execution_count": null,
   "metadata": {},
   "outputs": [],
   "source": [
    "def get_song_info(file):\n",
    "    filename, ext = os.path.splitext(file)\n",
    "    video_folder = file.split('_')[0]\n",
    "    return filename, video_folder, ext\n",
    "\n",
    "def time_to_second(s_time):\n",
    "    '''\n",
    "    Return the total duration in second from a time string\n",
    "    Time format: hh:mm:ss \n",
    "    '''\n",
    "    times = s_time.split(':')\n",
    "    hour = int(times[0])\n",
    "    minute = int(times[1])\n",
    "    second = int(times[2])\n",
    "    second += 3600*hour + 60*minute\n",
    "    return second\n",
    "\n",
    "def second_to_time(second):\n",
    "    '''\n",
    "    Return time string from second\n",
    "    Time format: hh:mm:ss \n",
    "    '''\n",
    "    second = int(second)\n",
    "    hour = int(second / 3600)\n",
    "    second -= 3600*hour\n",
    "    \n",
    "    minute = int(second / 60)\n",
    "    second -= 60*minute\n",
    "    \n",
    "    time = f'{hour:02}:{minute:02}:{second:02}'\n",
    "    return time\n",
    "\n",
    "def get_duration_with_ffprobe(filepath):\n",
    "  '''\n",
    "  This return a video file's duration (in second) and fps with ffprobe\n",
    "  '''\n",
    "  result = subprocess.check_output(f'ffprobe -v quiet -show_streams -select_streams v:0 -of json \"{filepath}\"',shell=True).decode()\n",
    "  fields = json.loads(result)['streams'][0]\n",
    "\n",
    "  duration = float(fields['duration'])\n",
    "  fps = float(eval(fields['r_frame_rate']))\n",
    "  return duration, fps"
   ]
  },
  {
   "cell_type": "code",
   "execution_count": null,
   "metadata": {},
   "outputs": [],
   "source": [
    "# reduce video duration\n",
    "audio_filename, audio_folder, audio_ext = get_song_info(raw_video_list[0])\n",
    "f_duration, _ = get_duration_with_ffprobe(f'{RAW_VIDEO_FOLDER}/{audio_folder}/{audio_filename}{audio_ext}')\n",
    "time_interval = 300\n",
    "s_start = '00:06:30'\n",
    "i_start = time_to_second(s_start)"
   ]
  },
  {
   "cell_type": "code",
   "execution_count": null,
   "metadata": {},
   "outputs": [],
   "source": [
    "\n",
    "## Make folder\n",
    "os.makedirs(f'{TRIMMED_VIDEO_FOLDER}/{audio_folder}', exist_ok=True)\n",
    "\n",
    "while i_start < f_duration:\n",
    "\n",
    "    i_end = i_start + time_interval\n",
    "    if i_end > f_duration:\n",
    "        i_end = f_duration\n",
    "\n",
    "    s_start = second_to_time(i_start)\n",
    "    s_end = second_to_time(i_end)\n",
    "\n",
    "    s_start_no_colon = s_start.replace(':','')\n",
    "    s_end_no_colon = s_end.replace(':','')\n",
    "    \n",
    "    with subprocess.Popen(['ffmpeg', '-y',\n",
    "                               '-i', f'{RAW_VIDEO_FOLDER}/{audio_folder}/{audio_filename}{audio_ext}',\n",
    "                               '-ss', s_start,\n",
    "                               '-to', s_end,\n",
    "                               '-c', 'copy', f'{TRIMMED_VIDEO_FOLDER}/{audio_folder}/{audio_filename}_s{s_start_no_colon}_e{s_end_no_colon}{audio_ext}',\n",
    "                               ],shell=False,\n",
    "                               stdout=subprocess.PIPE, \n",
    "                               stderr=subprocess.STDOUT,  # <-- redirect stderr to stdout\n",
    "                               bufsize=1) as con:\n",
    "            for line in iter(con.stdout.readline, b''):\n",
    "                print(line.decode('utf8'),end=''),\n",
    "\n",
    "    print(s_start, s_end)\n",
    "    i_start = i_end"
   ]
  },
  {
   "cell_type": "code",
   "execution_count": null,
   "metadata": {},
   "outputs": [],
   "source": [
    "# !python track.py --yolo_model \"yolov5/models/crowdhuman_yolov5m.pt\" \\\n",
    "# --img 640 --conf-thres 0.5 --source \"{TRIMMED_VIDEO_FOLDER}/{audio_folder}/ch08_20210413060707_s000630_e001130.mp4\"\\\n",
    "# --skip-frame 25 --save-txt --class 0 --save-crop --project \"track/exp/{audio_folder}/{audio_filename}\"\n"
   ]
  },
  {
   "cell_type": "code",
   "execution_count": null,
   "metadata": {},
   "outputs": [],
   "source": [
    "try:\n",
    "    with subprocess.Popen(['python', 'track.py',\n",
    "                            '--yolo_model', yolo_model,\n",
    "                            '--img', '640',\n",
    "                            '--conf-thres', '0.5',\n",
    "                            '--max-det', '50',\n",
    "                            '--source', f'{TRIMMED_VIDEO_FOLDER}/{audio_folder}/ch08_20210413060707_s000630_e001130.mp4',\n",
    "                            '--skip-frame', '25',\n",
    "                            '--save-txt',\n",
    "                            '--class', '0',\n",
    "                            '--save-crop',\n",
    "                            '--project', f'{EXTRACTED_VIDEO_FOLDER}/{audio_folder}/{audio_filename}'\n",
    "                            ],shell=False,\n",
    "                            stdout=subprocess.PIPE, \n",
    "                            stderr=subprocess.STDOUT,  # <-- redirect stderr to stdout\n",
    "                            bufsize=1) as con:\n",
    "        for line in iter(con.stdout.readline, b''):\n",
    "            print(line.decode('utf8'),end='')\n",
    "except:\n",
    "    con.terminate()\n",
    "    raise"
   ]
  },
  {
   "cell_type": "code",
   "execution_count": null,
   "metadata": {},
   "outputs": [],
   "source": []
  }
 ],
 "metadata": {
  "kernelspec": {
   "display_name": "Python 3.7.9 ('KLTN')",
   "language": "python",
   "name": "python3"
  },
  "language_info": {
   "codemirror_mode": {
    "name": "ipython",
    "version": 3
   },
   "file_extension": ".py",
   "mimetype": "text/x-python",
   "name": "python",
   "nbconvert_exporter": "python",
   "pygments_lexer": "ipython3",
   "version": "3.7.9"
  },
  "orig_nbformat": 4,
  "vscode": {
   "interpreter": {
    "hash": "8fcefb372e5ce4a0fa2d23634e414189790263700de7b6a70bc9b2a1f7c3c32e"
   }
  }
 },
 "nbformat": 4,
 "nbformat_minor": 2
}
